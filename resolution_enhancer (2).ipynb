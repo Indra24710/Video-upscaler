{
  "nbformat": 4,
  "nbformat_minor": 0,
  "metadata": {
    "colab": {
      "name": "resolution_enhancer.ipynb",
      "provenance": [],
      "collapsed_sections": [],
      "machine_shape": "hm"
    },
    "kernelspec": {
      "name": "python3",
      "display_name": "Python 3"
    },
    "accelerator": "GPU"
  },
  "cells": [
    {
      "cell_type": "markdown",
      "metadata": {
        "id": "caFA_qsXgMik"
      },
      "source": [
        "Connect to Google Drive"
      ]
    },
    {
      "cell_type": "code",
      "metadata": {
        "id": "tAb77yZ9fzMG",
        "colab": {
          "base_uri": "https://localhost:8080/"
        },
        "outputId": "8ad564a8-587c-4ca6-ae85-0ba22a081d55"
      },
      "source": [
        "from google.colab import drive\n",
        "drive.mount('/content/drive')\n",
        "%cd drive/My\\ Drive/SRGAN\n"
      ],
      "execution_count": null,
      "outputs": [
        {
          "output_type": "stream",
          "text": [
            "Drive already mounted at /content/drive; to attempt to forcibly remount, call drive.mount(\"/content/drive\", force_remount=True).\n",
            "/content/drive/My Drive/SRGAN\n"
          ],
          "name": "stdout"
        }
      ]
    },
    {
      "cell_type": "markdown",
      "metadata": {
        "id": "a8QB49r8gPfL"
      },
      "source": [
        "Install relevant packages"
      ]
    },
    {
      "cell_type": "code",
      "metadata": {
        "id": "pafL7Li0jyXW"
      },
      "source": [
        "!pip install -r requirements.txt\n",
        "!pip install git+https://www.github.com/keras-team/keras-contrib.git"
      ],
      "execution_count": null,
      "outputs": []
    },
    {
      "cell_type": "markdown",
      "metadata": {
        "id": "q84_LcLwfk1i"
      },
      "source": [
        "Load Images and Store them in a Numpy file (One time use)"
      ]
    },
    {
      "cell_type": "code",
      "metadata": {
        "id": "KaQW3bolfl8q"
      },
      "source": [
        "#Image Dataset: http://mmlab.ie.cuhk.edu.hk/projects/CelebA.html , filename:img_align_celeba.zip\n",
        "from zipfile import ZipFile \n",
        "  \n",
        "# specifying the zip file name \n",
        "file_name = \"img_align_celeba.zip\"\n",
        "  \n",
        "# opening the zip file in READ mode \n",
        "with ZipFile(file_name, 'r') as zip:  \n",
        "  \n",
        "    # extracting all the files \n",
        "    print('Extracting all the files now...') \n",
        "    zip.extractall() \n",
        "    print('Done!') "
      ],
      "execution_count": null,
      "outputs": []
    },
    {
      "cell_type": "code",
      "metadata": {
        "id": "VyCC3tL6fpQy"
      },
      "source": [
        "low_res_images=[]\n",
        "high_res_images=[]\n",
        "count=0\n",
        "for img in os.listdir('img_align_celeba'):\n",
        "  if '.zip' not in img: \n",
        "    count+=1\n",
        "    img1 = imread('images/'+img, mode='RGB')\n",
        "    img1 = img1.astype(np.float32)\n",
        "\n",
        "    img1_high_res=imresize(img1,(256,256,3))\n",
        "    img1_low_res=imresize(img1,(64,64,3))\n",
        "\n",
        "    if np.random.random()<0.5:\n",
        "      img1_high_res=np.fliplr(img1_high_res)\n",
        "      img1_low_res=np.fliplr(img1_low_res)\n",
        "\n",
        "    low_res_images.append(img1_low_res)\n",
        "    high_res_images.append(img1_high_res)\n",
        "    if count%100==0:\n",
        "      print(count)"
      ],
      "execution_count": null,
      "outputs": []
    },
    {
      "cell_type": "code",
      "metadata": {
        "id": "TqOviGjWfx5M"
      },
      "source": [
        "low_res_images=np.array(low_res_images)\n",
        "high_res_images=np.array(high_res_images)\n",
        "np.save('low',low_res_images)\n",
        "np.save('high',high_res_images)"
      ],
      "execution_count": null,
      "outputs": []
    },
    {
      "cell_type": "markdown",
      "metadata": {
        "id": "8w63tmLFf7Rx"
      },
      "source": [
        "Load Project Libraries"
      ]
    },
    {
      "cell_type": "code",
      "metadata": {
        "id": "gr9z-aAJ_HqX",
        "colab": {
          "base_uri": "https://localhost:8080/"
        },
        "outputId": "c671a863-93ca-4825-f8af-2f352702bfc7"
      },
      "source": [
        "\n",
        "import glob \n",
        "import os\n",
        "import numpy as np\n",
        "import tensorflow as tf\n",
        "from keras import Input\n",
        "from keras.applications  import VGG19\n",
        "from keras.callbacks import TensorBoard\n",
        "from keras.layers import BatchNormalization,LeakyReLU,PReLU,Dense, Add,Activation,Flatten\n",
        "from keras.layers.convolutional import Conv2D,UpSampling2D\n",
        "from keras.models import Model\n",
        "from keras.optimizers import Adam\n",
        "from keras_preprocessing.image import img_to_array,load_img\n",
        "from PIL import Image\n",
        "from scipy.misc import imsave,imread,imresize\n",
        "from scipy.misc import imread, imresize\n",
        "import matplotlib.pyplot as plt\n"
      ],
      "execution_count": null,
      "outputs": [
        {
          "output_type": "stream",
          "text": [
            "Using TensorFlow backend.\n"
          ],
          "name": "stderr"
        }
      ]
    },
    {
      "cell_type": "markdown",
      "metadata": {
        "id": "24CZMUQEf-6S"
      },
      "source": [
        "Load Image numpy files into numpy arrays"
      ]
    },
    {
      "cell_type": "code",
      "metadata": {
        "id": "C_h1OYGndiB-"
      },
      "source": [
        "main_high_res_images=np.load('high.npy')\n",
        "len(main_high_res_images)"
      ],
      "execution_count": null,
      "outputs": []
    },
    {
      "cell_type": "code",
      "metadata": {
        "colab": {
          "base_uri": "https://localhost:8080/"
        },
        "id": "j4uGshdviioz",
        "outputId": "5a7f2c7a-c6cb-4b07-807f-02c31c9b68e6"
      },
      "source": [
        "main_low_res_images=np.load('low.npy')\r\n",
        "len(main_low_res_images)"
      ],
      "execution_count": null,
      "outputs": [
        {
          "output_type": "execute_result",
          "data": {
            "text/plain": [
              "50000"
            ]
          },
          "metadata": {
            "tags": []
          },
          "execution_count": 18
        }
      ]
    },
    {
      "cell_type": "markdown",
      "metadata": {
        "id": "WPjDBhqqQTj8"
      },
      "source": [
        "Process Image data"
      ]
    },
    {
      "cell_type": "code",
      "metadata": {
        "id": "ZmixtzxF_MUH"
      },
      "source": [
        "\n",
        "def sample_images(data_dir,batch_size,low_resolution_shape,high_resolution_shape):\n",
        "  image_batch=np.random.randint(0,len(main_high_res_images))\n",
        "\n",
        "  return np.array([main_high_res_images[image_batch]]),np.array([main_low_res_images[image_batch]])\n",
        "\n",
        "\n",
        "\n",
        "\n"
      ],
      "execution_count": null,
      "outputs": []
    },
    {
      "cell_type": "code",
      "metadata": {
        "id": "npX4ZMTB_Ohd"
      },
      "source": [
        "def save_images(low_resolution_image, original_image, generated_image, path):\n",
        "    \"\"\"\n",
        "    Save low-resolution, high-resolution(original) and\n",
        "    generated high-resolution images in a single image\n",
        "    \"\"\"\n",
        "    fig = plt.figure()\n",
        "    ax = fig.add_subplot(1, 3, 1)\n",
        "    ax.imshow(low_resolution_image)\n",
        "    ax.axis(\"off\")\n",
        "    ax.set_title(\"Low-resolution\")\n",
        "\n",
        "    ax = fig.add_subplot(1, 3, 2)\n",
        "    ax.imshow(original_image)\n",
        "    ax.axis(\"off\")\n",
        "    ax.set_title(\"Original\")\n",
        "\n",
        "    ax = fig.add_subplot(1, 3, 3)\n",
        "    ax.imshow(generated_image)\n",
        "    ax.axis(\"off\")\n",
        "    ax.set_title(\"Generated\")\n",
        "\n",
        "    plt.savefig(path)"
      ],
      "execution_count": null,
      "outputs": []
    },
    {
      "cell_type": "markdown",
      "metadata": {
        "id": "aXH3nvtnQW3Z"
      },
      "source": [
        "\r\n",
        "Generator"
      ]
    },
    {
      "cell_type": "code",
      "metadata": {
        "id": "rrW91KGi_P8G"
      },
      "source": [
        "def build_generator():\n",
        "  residual_block_count=16\n",
        "  momentum=0.8\n",
        "  input_shape=(64,64,3)\n",
        "  input_layer=Input(shape=input_shape)\n",
        "\n",
        "  net1=Conv2D(filters=64,kernel_size=9,strides=1,padding='same',activation='relu')(input_layer)\n",
        "\n",
        "\n",
        "\n",
        "  def res_block(x):\n",
        "    filters=[64,64]\n",
        "    kernel_size=3\n",
        "    strides=1\n",
        "    padding='same'\n",
        "    momentum=0.8\n",
        "    activation='relu'\n",
        "    res=Conv2D(filters=filters[0],kernel_size=kernel_size,strides=strides,padding='same',activation='relu')(x)\n",
        "    res=Activation(activation=activation)(res)\n",
        "    res=BatchNormalization(momentum=momentum)(res)\n",
        "    res=Conv2D(filters=filters[1],kernel_size=kernel_size,strides=strides,padding='same',activation='relu')(res)\n",
        "    res=BatchNormalization(momentum=momentum)(res)\n",
        "    res=Add()([res,x])\n",
        "    return res\n",
        "\n",
        "  res=res_block(net1)\n",
        "  for i in range(residual_block_count):\n",
        "    res=res_block(res)\n",
        "\n",
        "  net2=Conv2D(filters=64,kernel_size=3,strides=1,padding='same')(res)\n",
        "  net2=BatchNormalization(momentum=0.8)(net2)\n",
        "  net3=Add()([net2,net1])\n",
        "\n",
        "  net4=UpSampling2D(size=2)(net3)\n",
        "  net4=Conv2D(filters=256,kernel_size=3,padding='same',strides=1)(net4)\n",
        "  net4=Activation('relu')(net4)\n",
        "\n",
        "  net5=UpSampling2D(size=2)(net4)\n",
        "  net5=Conv2D(filters=256,kernel_size=3,padding='same',strides=1)(net5)\n",
        "  net5=Activation('relu')(net5)\n",
        "\n",
        "  net6=Conv2D(filters=3,kernel_size=9,strides=1,padding='same')(net5)\n",
        "  net6=Activation(activation='tanh')(net6)\n",
        "\n",
        "  model=Model(inputs=[input_layer],outputs=[net6],name='generator')\n",
        "\n",
        "  return model\n",
        "\n",
        "\n",
        "\n",
        "\n"
      ],
      "execution_count": null,
      "outputs": []
    },
    {
      "cell_type": "markdown",
      "metadata": {
        "id": "QLnoVr4ZQYZP"
      },
      "source": [
        "Discriminator"
      ]
    },
    {
      "cell_type": "code",
      "metadata": {
        "id": "CLjNastk_Rbt"
      },
      "source": [
        "def build_discriminator():\n",
        "  leakyrelu_alpha=  0.2\n",
        "  momentum=0.8\n",
        "  input_shape=(256,256,3)\n",
        "  input_layer=Input(shape=input_shape)\n",
        "\n",
        "  net1=Conv2D(filters=64,kernel_size=3,strides=1,\n",
        "              padding='same')(input_layer)\n",
        "  net1=LeakyReLU(alpha=leakyrelu_alpha)(net1)\n",
        "\n",
        "  net2=Conv2D(filters=64,kernel_size=3,strides=2,padding='same')(net1)\n",
        "  net2=LeakyReLU(alpha=leakyrelu_alpha)(net2)\n",
        "  net2=BatchNormalization(momentum=momentum)(net2)\n",
        "\n",
        "  net3=Conv2D(filters=128,kernel_size=3,strides=1,padding='same')(net2)\n",
        "  net3=LeakyReLU(alpha=leakyrelu_alpha)(net3)\n",
        "  net3=BatchNormalization(momentum=momentum)(net3)\n",
        "\n",
        "  net4=Conv2D(filters=128,kernel_size=3,strides=2,padding='same')(net3)\n",
        "  net4=LeakyReLU(alpha=leakyrelu_alpha)(net4)\n",
        "  net4=BatchNormalization(momentum=momentum)(net4)\n",
        "    \n",
        "  net5=Conv2D(filters=256,kernel_size=3,strides=1,padding='same')(net4)\n",
        "  net5=LeakyReLU(alpha=leakyrelu_alpha)(net5)\n",
        "  net5=BatchNormalization(momentum=momentum)(net5)\n",
        "  \n",
        "  net6=Conv2D(filters=256,kernel_size=3,strides=2,padding='same')(net5)\n",
        "  net6=LeakyReLU(alpha=leakyrelu_alpha)(net6)\n",
        "  net6=BatchNormalization(momentum=momentum)(net6)\n",
        "    \n",
        "  net7=Conv2D(filters=512,kernel_size=3,strides=1,padding='same')(net6)\n",
        "  net7=LeakyReLU(alpha=leakyrelu_alpha)(net7)\n",
        "  net7=BatchNormalization(momentum=momentum)(net7)\n",
        "  \n",
        "  net8=Conv2D(filters=512,kernel_size=3,strides=2,padding='same')(net7)\n",
        "  net8=LeakyReLU(alpha=leakyrelu_alpha)(net8)\n",
        "  net8=BatchNormalization(momentum=momentum)(net8)\n",
        "\n",
        "  net9=Dense(units=1024)(net8)\n",
        "  net9=LeakyReLU(alpha=0.2)(net9)\n",
        "  output=Dense(units=1,activation='sigmoid')(net9)\n",
        "\n",
        "  model=Model(inputs=[input_layer],outputs=[output],name='discriminator')\n",
        "  return model\n"
      ],
      "execution_count": null,
      "outputs": []
    },
    {
      "cell_type": "markdown",
      "metadata": {
        "id": "yn8kPMwMQZu_"
      },
      "source": [
        "VGG19"
      ]
    },
    {
      "cell_type": "code",
      "metadata": {
        "id": "-zpmGVuS_S0l"
      },
      "source": [
        "def build_vgg():\n",
        "  input_shape=(256,256,3)\n",
        "  vgg=VGG19(weights='imagenet',include_top=False,input_shape=input_shape)\n",
        "  # print(vgg.summary())\n",
        "  vgg.outputs=[vgg.layers[9].output]\n",
        "  \n",
        "\n",
        "  input_layer=Input(shape=input_shape)\n",
        "  features=vgg(input_layer)\n",
        "  model=Model(inputs=[input_layer],outputs=[features])\n",
        "  model.compile(loss='mse',optimizer=common_opt,metrics=['accuracy'])\n",
        "\n",
        "  return model\n"
      ],
      "execution_count": null,
      "outputs": []
    },
    {
      "cell_type": "markdown",
      "metadata": {
        "id": "ehn8yE3bQbGH"
      },
      "source": [
        "Adversarial Model"
      ]
    },
    {
      "cell_type": "code",
      "metadata": {
        "id": "OzFoniR4_UMA"
      },
      "source": [
        "def build_adversarial(generator,discriminator,vgg):\n",
        "  input_low_res=Input(shape=(64,64,3))\n",
        "  fake_hr_images=generator(input_low_res)\n",
        "  fake_features=vgg(fake_hr_images)\n",
        "  discriminator.trainable=False\n",
        "  output=discriminator(fake_hr_images)\n",
        "  model=Model(inputs=[input_low_res],outputs=[output,fake_features])\n",
        "  return model"
      ],
      "execution_count": null,
      "outputs": []
    },
    {
      "cell_type": "markdown",
      "metadata": {
        "id": "6ONgRF-rgF5C"
      },
      "source": [
        "Training our GAN"
      ]
    },
    {
      "cell_type": "code",
      "metadata": {
        "id": "BuBJmRmo_Vld"
      },
      "source": [
        "epochs=20000\n",
        "batch_size=1\n",
        "low_res_shape=(64,64,3)\n",
        "high_res_shape=(256,256,3)\n",
        "common_opt=Adam(0.0002,0.5)\n",
        "data='/'\n",
        "\n",
        "\n",
        "discriminator=build_discriminator()\n",
        "discriminator.compile(loss='mse',optimizer=common_opt,metrics=['accuracy'])\n",
        "if 'discriminator.h5' in os.listdir():\n",
        "  discriminator.load_weights('discriminator.h5')\n",
        "print('disc ready')\n",
        "generator=build_generator()\n",
        "input_low_res=Input(shape=low_res_shape)\n",
        "input_high_res=Input(shape=high_res_shape)\n",
        "\n",
        "gen_high_res_images=generator(input_low_res)\n",
        "print('gen ready')\n",
        "\n",
        "vgg=build_vgg()\n",
        "vgg.trainable=False\n",
        "features=vgg(gen_high_res_images)\n",
        "print('vgg ready')\n",
        "\n",
        "discriminator.trainable=False\n",
        "\n",
        "probs=discriminator(gen_high_res_images)\n",
        "\n",
        "adversarial_model=Model([input_low_res,input_high_res],[probs,features])\n",
        "adversarial_model.compile(loss=['binary_crossentropy','mse'],loss_weights=[1e-3,1],optimizer=common_opt)\n",
        "if 'generator.h5' in os.listdir():\n",
        "  generator.load_weights('generator.h5')\n",
        "print('adv model ready')\n",
        "\n",
        "for epoch in range(0,epochs):\n",
        "  if epoch%10==0:\n",
        "    if 'discriminator.h5' in os.listdir():\n",
        "      os.remove('discriminator.h5')\n",
        "      os.remove('generator.h5')\n",
        "  print('Epoch:{}'.format(epoch))\n",
        "  high_res_images,low_res_images=sample_images(data_dir=data,batch_size=batch_size,low_resolution_shape=low_res_shape,high_resolution_shape=high_res_shape)\n",
        "  print('images ready')\n",
        "\n",
        "  high_res_images=high_res_images/127.5 - 1\n",
        "  low_res_images=low_res_images/127.5 - 1\n",
        "\n",
        "  gen_high_res_images=generator.predict(low_res_images)\n",
        "  real_labels=np.ones((batch_size,16,16,1))\n",
        "  fake_labels=np.zeros((batch_size,16,16,1))\n",
        "\n",
        "  d_loss_real=discriminator.train_on_batch(high_res_images,real_labels)\n",
        "  d_loss_fake=discriminator.train_on_batch(gen_high_res_images,fake_labels)\n",
        "  print('disc trained')\n",
        "\n",
        "  d_loss=0.5*np.add(d_loss_real,d_loss_fake)\n",
        "\n",
        "  high_res_images,low_res_images=sample_images(data_dir=data,batch_size=batch_size,low_resolution_shape=low_res_shape,high_resolution_shape=high_res_shape)\n",
        "\n",
        "  high_res_images=high_res_images/127.5 - 1\n",
        "  low_res_images=low_res_images/127.5 - 1\n",
        "\n",
        "  image_features=vgg.predict(high_res_images)\n",
        "  print('vgg predicted')\n",
        "  g_loss=adversarial_model.train_on_batch([low_res_images,high_res_images],[real_labels,image_features])\n",
        "  print('adv model trained')\n",
        "  print('d_loss_real:',d_loss_real)\n",
        "  print('d_loss_fake:',d_loss_fake)\n",
        "  print('d_loss:',d_loss)\n",
        "  print('g_loss:',g_loss)\n",
        "\n",
        "  if epoch%10==0:\n",
        "    generator.save_weights('generator.h5')\n",
        "    discriminator.save_weights('discriminator.h5')\n",
        "    print('generator and discriminator weights for epoch{} has been saved'.format(epoch))\n",
        "  \n",
        "  if epoch%20==0:\n",
        "    high_res_images,low_res_images=sample_images(data_dir=data,batch_size=batch_size,low_resolution_shape=low_res_shape,high_resolution_shape=high_res_shape)\n",
        "\n",
        "    high_res_images=high_res_images/127.5 - 1\n",
        "    low_res_images=low_res_images/127.5 - 1\n",
        "\n",
        "    gen_images=generator.predict_on_batch(low_res_images)\n",
        "\n",
        "    for index, img in enumerate(gen_images):\n",
        "                        save_images(low_res_images[index], high_res_images[index], img,\n",
        "                                    path=\"results/img_{}_{}\".format(epoch, index))\n",
        "                        print(\"results/img_{}_{}\".format(epoch, index))\n",
        "\n"
      ],
      "execution_count": null,
      "outputs": []
    },
    {
      "cell_type": "markdown",
      "metadata": {
        "id": "J7_nyUB6RFR5"
      },
      "source": [
        "Predictor"
      ]
    },
    {
      "cell_type": "code",
      "metadata": {
        "id": "x-_kFC5iV7Gw",
        "colab": {
          "base_uri": "https://localhost:8080/",
          "height": 230
        },
        "outputId": "b3ccffd5-2335-4dcb-cece-3cc67eb87917"
      },
      "source": [
        "generator=build_generator()\n",
        "generator.load_weights('generator.h5')\n",
        "data='/'\n",
        "high_res_images,low_res_images=sample_images(data_dir=data,batch_size=1,low_resolution_shape=(64,64,3),high_resolution_shape=(256,256,3))\n",
        "\n",
        "high_res_images=high_res_images/127.5 - 1\n",
        "low_res_images=low_res_images/127.5 - 1\n",
        "\n",
        "gen_images=generator.predict_on_batch(low_res_images)\n",
        "\n",
        "for index, img in enumerate(gen_images):\n",
        "  save_images(low_res_images[index], high_res_images[index], img,\n",
        "              path=\"results/img_{}_{}\".format(1, index))\n",
        "  print(\"results/img_{}_{}\".format(1, index))\n"
      ],
      "execution_count": null,
      "outputs": [
        {
          "output_type": "stream",
          "text": [
            "Clipping input data to the valid range for imshow with RGB data ([0..1] for floats or [0..255] for integers).\n",
            "Clipping input data to the valid range for imshow with RGB data ([0..1] for floats or [0..255] for integers).\n",
            "Clipping input data to the valid range for imshow with RGB data ([0..1] for floats or [0..255] for integers).\n"
          ],
          "name": "stderr"
        },
        {
          "output_type": "stream",
          "text": [
            "results/img_1_0\n"
          ],
          "name": "stdout"
        },
        {
          "output_type": "display_data",
          "data": {
            "image/png": "[encoded data removed]",
            "text/plain": [
              "<Figure size 432x288 with 3 Axes>"
            ]
          },
          "metadata": {
            "tags": [],
            "needs_background": "light"
          }
        }
      ]
    },
    {
      "cell_type": "markdown",
      "metadata": {
        "id": "hLxaMO1K2jFt"
      },
      "source": [
        "Enhance Video Resolution Application"
      ]
    },
    {
      "cell_type": "markdown",
      "metadata": {
        "id": "Q_88UGL8m-6e"
      },
      "source": [
        "Extract frames from video files"
      ]
    },
    {
      "cell_type": "code",
      "metadata": {
        "colab": {
          "base_uri": "https://localhost:8080/"
        },
        "id": "IyTJXQEo3Eo-",
        "outputId": "add88b3e-bb5e-43ce-a4ae-caeb19a2687a"
      },
      "source": [
        "import cv2\r\n",
        "import math\r\n",
        "videoFile = 'video filename'\r\n",
        "X=[]\r\n",
        "cap = cv2.VideoCapture(videoFile)   # capturing the video from the given path\r\n",
        "frameRate = cap.get(1) #frame rate\r\n",
        "#print(cap.isOpened())\r\n",
        "while(cap.isOpened()):\r\n",
        "  #print(1)\r\n",
        "  frameId = cap.get(1) #current frame number\r\n",
        "  ret, frame = cap.read()\r\n",
        "  if (ret != True):\r\n",
        "      break\r\n",
        "  frame=cv2.cvtColor(frame, cv2.COLOR_BGR2RGB)\r\n",
        "  frame = cv2.rotate(frame, cv2.ROTATE_90_COUNTERCLOCKWISE) \r\n",
        "\r\n",
        "\r\n",
        "  X_temp = frame\r\n",
        "  img1 = X_temp.astype(np.float32)\r\n",
        "  X.append(imresize(X_temp,(64,64,3)))\r\n",
        "cap.release()"
      ],
      "execution_count": null,
      "outputs": [
        {
          "output_type": "stream",
          "text": [
            "/usr/local/lib/python3.6/dist-packages/ipykernel_launcher.py:20: DeprecationWarning: `imresize` is deprecated!\n",
            "`imresize` is deprecated in SciPy 1.0.0, and will be removed in 1.3.0.\n",
            "Use Pillow instead: ``numpy.array(Image.fromarray(arr).resize())``.\n"
          ],
          "name": "stderr"
        }
      ]
    },
    {
      "cell_type": "markdown",
      "metadata": {
        "id": "PPqUUJ7Sm5r3"
      },
      "source": [
        "Generate Upscaled video frames and store them as individual files"
      ]
    },
    {
      "cell_type": "code",
      "metadata": {
        "id": "2AsjwIQfyR36"
      },
      "source": [
        "import matplotlib.pyplot as plt\r\n",
        "import numpy as np\r\n",
        "generator=build_generator()\r\n",
        "# generator.load_weights('generator.h5')\r\n",
        "data='/'\r\n",
        "count=0\r\n",
        "final=[]\r\n",
        "for i in range(0,len(X),2):\r\n",
        "  # print(i)\r\n",
        "  high_res_images,low_res_images=sample_images(X[i],batch_size=1,low_resolution_shape=(64,64,3),high_resolution_shape=(256,256,3))\r\n",
        "\r\n",
        "  low_res_images=low_res_images/127.5 - 1\r\n",
        "  gen_images=generator.predict_on_batch(np.array([low_res_images]))\r\n",
        "  imsave('video_data/img_{}.png'.format(count),X[i])\r\n",
        "  print(count)\r\n",
        "  count+=1\r\n"
      ],
      "execution_count": null,
      "outputs": []
    },
    {
      "cell_type": "markdown",
      "metadata": {
        "id": "bJwmvJE-nC5u"
      },
      "source": [
        "Combine all the above generated frame files into a single video"
      ]
    },
    {
      "cell_type": "code",
      "metadata": {
        "id": "GShFBa4j4jpE"
      },
      "source": [
        "from os.path import isfile, join\r\n",
        "\r\n",
        "def convert_frames_to_video(pathIn,pathOut,fps):\r\n",
        "    frame_array = []\r\n",
        "    files=[]\r\n",
        "    for i in range(len(os.listdir(pathIn))):\r\n",
        "      files.append(pathIn+'/'+'img_{}.png'.format(i))\r\n",
        "    # print(files)\r\n",
        "\r\n",
        "\r\n",
        "    for i in range(len(files)-1):\r\n",
        "        filename=files[i]\r\n",
        "        #reading each files\r\n",
        "        img = cv2.imread(filename)\r\n",
        "        height, width, layers = img.shape\r\n",
        "        size = (width,height)\r\n",
        "        print(filename)\r\n",
        "        #inserting the frames into an image array\r\n",
        "        frame_array.append(img)\r\n",
        "\r\n",
        "    out = cv2.VideoWriter(pathOut,cv2.VideoWriter_fourcc(*'DIVX'), fps, size)\r\n",
        "\r\n",
        "    for i in range(len(frame_array)):\r\n",
        "        # writing to a image array\r\n",
        "        out.write(frame_array[i])\r\n",
        "    out.release()\r\n",
        "\r\n",
        "def main():\r\n",
        "    pathOut = 'video.avi'\r\n",
        "    fps = 25.0\r\n",
        "    convert_frames_to_video('video_data', pathOut, fps)\r\n",
        "\r\n",
        "if __name__==\"__main__\":\r\n",
        "    main()"
      ],
      "execution_count": null,
      "outputs": []
    },
    {
      "cell_type": "code",
      "metadata": {
        "id": "-giQQ0uAcABv"
      },
      "source": [
        ""
      ],
      "execution_count": null,
      "outputs": []
    }
  ]
}